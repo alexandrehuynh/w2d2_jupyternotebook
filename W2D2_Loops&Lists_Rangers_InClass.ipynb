{
 "cells": [
  {
   "cell_type": "markdown",
   "metadata": {},
   "source": [
    "# Functions, Scoping, Data Collections 1 & List Comprehensions"
   ]
  },
  {
   "cell_type": "markdown",
   "metadata": {},
   "source": [
    "## Tasks Today:\n",
    "\n",
    "<i>Monday Additions (for loops)</i>\n",
    "\n",
    "1) For Loops <br>\n",
    " &nbsp;&nbsp;&nbsp;&nbsp; a) Using 'in' keyword <br>\n",
    " &nbsp;&nbsp;&nbsp;&nbsp; b) Continue Statement <br>\n",
    " &nbsp;&nbsp;&nbsp;&nbsp; c) Break Statement <br>\n",
    " &nbsp;&nbsp;&nbsp;&nbsp; d) Pass Statement <br>\n",
    " &nbsp;&nbsp;&nbsp;&nbsp; e) Double For Loops <br>\n",
    "2) While Loops <br>\n",
    " &nbsp;&nbsp;&nbsp;&nbsp; a) Looping 'While True' <br>\n",
    " &nbsp;&nbsp;&nbsp;&nbsp; b) While and For Loops Used Together <br>\n",
    " \n",
    "3) Lists <br>\n",
    " &nbsp;&nbsp;&nbsp;&nbsp; a) Declaring Lists <br>\n",
    " &nbsp;&nbsp;&nbsp;&nbsp; b) Indexing a List <br>\n",
    " &nbsp;&nbsp;&nbsp;&nbsp; c) .append() <br>\n",
    " &nbsp;&nbsp;&nbsp;&nbsp; d) .insert() <br>\n",
    " &nbsp;&nbsp;&nbsp;&nbsp; e) .pop() <br>\n",
    " &nbsp;&nbsp;&nbsp;&nbsp; f) .remove() <br>\n",
    " &nbsp;&nbsp;&nbsp;&nbsp; g) del() <br>\n",
    " &nbsp;&nbsp;&nbsp;&nbsp; h) Concatenating Two Lists <br>\n",
    " &nbsp;&nbsp;&nbsp;&nbsp; i) Lists Within Lists <br>\n",
    " &nbsp;&nbsp;&nbsp;&nbsp; j) Looping Through Lists <br>\n",
    "4) Working With Lists <br>\n",
    " &nbsp;&nbsp;&nbsp;&nbsp; a) min() <br>\n",
    " &nbsp;&nbsp;&nbsp;&nbsp; b) max() <br>\n",
    " &nbsp;&nbsp;&nbsp;&nbsp; c) sum() <br>\n",
    " &nbsp;&nbsp;&nbsp;&nbsp; d) sort() <br>\n",
    " &nbsp;&nbsp;&nbsp;&nbsp; e) Copying a List <br>\n",
    " &nbsp;&nbsp;&nbsp;&nbsp; f) 'in' keyword <br>\n",
    " &nbsp;&nbsp;&nbsp;&nbsp; g) 'not in' keyword <br>\n",
    " &nbsp;&nbsp;&nbsp;&nbsp; i) Checking an Empty List <br>\n",
    " &nbsp;&nbsp;&nbsp;&nbsp; j) Removing Instances with a Loop <br> \n",
    "5) List Comprehensions <br>\n",
    "6) Tuples <br>\n",
    " &nbsp;&nbsp;&nbsp;&nbsp; a) sorted() <br>\n"
   ]
  },
  {
   "cell_type": "markdown",
   "metadata": {},
   "source": [
    "### For Loops"
   ]
  },
  {
   "cell_type": "code",
   "execution_count": 34,
   "metadata": {},
   "outputs": [
    {
     "name": "stdout",
     "output_type": "stream",
     "text": [
      "2\n",
      "3\n",
      "4\n",
      "5\n",
      "<class 'str'> 5\n",
      "2364878243656069172878005\n",
      "2364878243656069172878005\n"
     ]
    }
   ],
   "source": [
    "# for keyword, counter/iterator, in keyword, object\n",
    "value = \"1 2 3 4\"\n",
    "value = value.replace(\" \", \"\")\n",
    "\n",
    "for x in value:\n",
    "    x = int(x)\n",
    "    print(x+1)\n",
    "    \n",
    "\n",
    "num = 54321\n",
    "num_str = str(num)\n",
    "expo = len(num_str)\n",
    "print(type(num_str), expo)\n",
    "\n",
    "total = sum(int(num_str)**expo for z in num_str)\n",
    "\n",
    "total1 = 0\n",
    "\n",
    "for z in num_str:\n",
    "    total1 += int(num_str)**expo\n",
    "    \n",
    "print(total)\n",
    "print(total1)\n",
    "    \n"
   ]
  },
  {
   "cell_type": "code",
   "execution_count": 42,
   "metadata": {},
   "outputs": [
    {
     "name": "stdout",
     "output_type": "stream",
     "text": [
      "0 A\n",
      "1 l\n",
      "2 e\n",
      "3 x\n",
      "4  \n",
      "5 H\n",
      "6 u\n",
      "7 y\n",
      "8 n\n",
      "9 h\n",
      "(0, 'A')\n",
      "(1, 'l')\n",
      "(2, 'e')\n",
      "(3, 'x')\n",
      "(4, ' ')\n",
      "(5, 'H')\n",
      "(6, 'u')\n",
      "(7, 'y')\n",
      "(8, 'n')\n",
      "(9, 'h')\n"
     ]
    }
   ],
   "source": [
    "# enumerate()\n",
    "\n",
    "variable = \"Alex Huynh\"\n",
    "\n",
    "for i, string in enumerate(variable): # unpacking the tuple inside loop\n",
    "    print(i, string)\n",
    "\n",
    "for tup in enumerate(variable): # not unpacking the tuple\n",
    "    print(tup)"
   ]
  },
  {
   "cell_type": "markdown",
   "metadata": {},
   "source": [
    "##### Using 'in' keyword"
   ]
  },
  {
   "cell_type": "code",
   "execution_count": 47,
   "metadata": {},
   "outputs": [
    {
     "name": "stdout",
     "output_type": "stream",
     "text": [
      "['Alex Huynh']\n",
      "['Justin']\n",
      "['Ryan']\n",
      "not found\n",
      "ryan\n",
      "not found\n",
      "0\n",
      "1\n",
      "4\n",
      "9\n",
      "16\n",
      "25\n",
      "36\n",
      "49\n",
      "64\n",
      "81\n",
      "100\n",
      "121\n",
      "144\n",
      "169\n",
      "196\n"
     ]
    }
   ],
   "source": [
    "#in is what accesses the items in an iterable\n",
    "\n",
    "val = [[\"Alex Huynh\"],[\"Justin\"],[\"Ryan\"]]\n",
    "\n",
    "for x in val:\n",
    "    print(x)\n",
    "\n",
    "name = [\"alex\", \"ryan\", \"jack\"]\n",
    "\n",
    "for n in name:\n",
    "    if \"n\" in n:\n",
    "        print(n)\n",
    "    else:\n",
    "        print(\"not found\")\n",
    "\n",
    "    \n",
    "for x in range(15):\n",
    "    print(x**2)"
   ]
  },
  {
   "cell_type": "markdown",
   "metadata": {},
   "source": [
    "##### Continue Statement"
   ]
  },
  {
   "cell_type": "code",
   "execution_count": 58,
   "metadata": {},
   "outputs": [
    {
     "name": "stdout",
     "output_type": "stream",
     "text": [
      "0\n",
      "1\n",
      "2\n",
      "3\n",
      "4\n",
      "5\n",
      "6\n",
      "7\n",
      "9\n",
      "10\n",
      "11\n",
      "12\n",
      "14\n",
      "15\n",
      "16\n",
      "18\n",
      "19\n"
     ]
    }
   ],
   "source": [
    "#continue\n",
    "\n",
    "for i in range(20):\n",
    "    if i==13 or i==8 or i==17:\n",
    "        continue\n",
    "    print(i)"
   ]
  },
  {
   "cell_type": "markdown",
   "metadata": {},
   "source": [
    "##### Break Statement"
   ]
  },
  {
   "cell_type": "code",
   "execution_count": 63,
   "metadata": {},
   "outputs": [
    {
     "name": "stdout",
     "output_type": "stream",
     "text": [
      "0\n",
      "1\n",
      "2\n",
      "3\n",
      "4\n",
      "5\n",
      "6\n",
      "7\n",
      "8\n",
      "9\n",
      "\n",
      "\n",
      "0\n",
      "1\n",
      "2\n",
      "3\n",
      "4\n",
      "5\n",
      "6\n"
     ]
    }
   ],
   "source": [
    "# break will break out of current loop\n",
    "# used as a break as part of condition\n",
    "\n",
    "for n in range(10):\n",
    "    print(n)\n",
    "print(\"\\n\")\n",
    "\n",
    "for n in range(10):\n",
    "    if n == 7:\n",
    "         break\n",
    "    else:\n",
    "        print(n)"
   ]
  },
  {
   "cell_type": "markdown",
   "metadata": {},
   "source": [
    "##### Pass Statement"
   ]
  },
  {
   "cell_type": "code",
   "execution_count": 68,
   "metadata": {},
   "outputs": [],
   "source": [
    "# mostly used as a placeholder, and will continue on same iteration\n",
    "\n",
    "for i in range(20):\n",
    "    pass\n",
    "    "
   ]
  },
  {
   "cell_type": "code",
   "execution_count": 73,
   "metadata": {},
   "outputs": [
    {
     "name": "stdout",
     "output_type": "stream",
     "text": [
      "Y\n",
      "u\n",
      "g\n",
      "i\n",
      " \n",
      "M\n",
      "o\n",
      "t\n",
      "o\n",
      "\n",
      "\n",
      "Y 0\n",
      "u 1\n",
      "g 2\n",
      "i 3\n",
      "  4\n",
      "M 5\n",
      "o 6\n",
      "t 7\n",
      "o 8\n",
      "\n",
      "\n",
      "0 Y Y\n",
      "1 u u\n",
      "2 g g\n",
      "3 i i\n",
      "4    \n",
      "5 M M\n",
      "6 o o\n",
      "7 t t\n",
      "8 o o\n"
     ]
    }
   ],
   "source": [
    "cool_person = \"Yugi Moto\"\n",
    "# loop through cool_person using the three for loops we talked about earlier\n",
    "#loop by value\n",
    "#loop by index\n",
    "#loop with enumerate\n",
    "\n",
    "\n",
    "for i, val in enumerate(cool_person):\n",
    "    print (val)\n",
    "print(\"\\n\")\n",
    "for i, val in enumerate(cool_person):\n",
    "    print (cool_person[i], i)\n",
    "print(\"\\n\")\n",
    "for i, val in enumerate(cool_person):\n",
    "    print (i, val, cool_person[i])\n",
    "    "
   ]
  },
  {
   "cell_type": "markdown",
   "metadata": {},
   "source": [
    "##### Double For Loops"
   ]
  },
  {
   "cell_type": "code",
   "execution_count": 84,
   "metadata": {
    "scrolled": true
   },
   "outputs": [
    {
     "name": "stdout",
     "output_type": "stream",
     "text": [
      "Alex has an x\n",
      "Justin does not have an x\n",
      "Razvan does not have an x\n"
     ]
    }
   ],
   "source": [
    "val = [\"Alex\", \"Justin\", \"Razvan\"]\n",
    "\n",
    "for x in val:\n",
    "    has_x = False\n",
    "    \n",
    "    for y in x:\n",
    "        if y == \"x\":\n",
    "            has_x = True\n",
    "            break\n",
    "    \n",
    "    if has_x:\n",
    "        print(x, \"has an x\")\n",
    "    else:\n",
    "        print(x, \"does not have an x\")"
   ]
  },
  {
   "cell_type": "code",
   "execution_count": 95,
   "metadata": {},
   "outputs": [
    {
     "name": "stdout",
     "output_type": "stream",
     "text": [
      "\n",
      "\n",
      "i =  0 j =  0\n",
      "i =  0 j =  1\n",
      "i =  0 j =  2\n",
      "i =  0 j =  3\n",
      "i =  0 j =  4\n",
      "\n",
      "\n",
      "i =  1 j =  0\n",
      "i =  1 j =  1\n",
      "i =  1 j =  2\n",
      "i =  1 j =  3\n",
      "i =  1 j =  4\n",
      "\n",
      "\n",
      "i =  2 j =  0\n",
      "i =  2 j =  1\n",
      "i =  2 j =  2\n",
      "i =  2 j =  3\n",
      "i =  2 j =  4\n",
      "\n",
      "\n",
      "i =  3 j =  0\n",
      "i =  3 j =  1\n",
      "i =  3 j =  2\n",
      "i =  3 j =  3\n",
      "i =  3 j =  4\n",
      "\n",
      "\n",
      "i =  4 j =  0\n",
      "i =  4 j =  1\n",
      "i =  4 j =  2\n",
      "i =  4 j =  3\n",
      "i =  4 j =  4\n"
     ]
    }
   ],
   "source": [
    "for i in range(5):\n",
    "    print(\"\\n\")\n",
    "    for j in range(5):\n",
    "        print(\"i = \", i, \"j = \", j)"
   ]
  },
  {
   "cell_type": "code",
   "execution_count": 111,
   "metadata": {},
   "outputs": [
    {
     "name": "stdout",
     "output_type": "stream",
     "text": [
      "0 0 0 0\n",
      "0 0 0 1\n",
      "0 0 1 0\n",
      "0 0 1 1\n",
      "0 1 0 0\n",
      "0 1 0 1\n",
      "0 1 1 0\n",
      "0 1 1 1\n",
      "1 0 0 0\n",
      "1 0 0 1\n",
      "1 0 1 0\n",
      "1 0 1 1\n",
      "1 1 0 0\n",
      "1 1 0 1\n",
      "1 1 1 0\n",
      "1 1 1 1\n"
     ]
    }
   ],
   "source": [
    "for i in range(2):    \n",
    "    for j in range(2):\n",
    "        for k in range(2):\n",
    "            for l in range(2):\n",
    "                print(i,j,k,l)"
   ]
  },
  {
   "cell_type": "markdown",
   "metadata": {},
   "source": [
    "### While Loops"
   ]
  },
  {
   "cell_type": "code",
   "execution_count": 119,
   "metadata": {},
   "outputs": [
    {
     "name": "stdout",
     "output_type": "stream",
     "text": [
      "1\n",
      "2\n",
      "3\n",
      "4\n",
      "5\n",
      "6\n",
      "7\n",
      "8\n",
      "9\n",
      "10\n",
      "11\n"
     ]
    }
   ],
   "source": [
    "#while keyword, condition statement\n",
    "#while loop will run based on the condition statement\n",
    "\n",
    "counter = 0\n",
    "\n",
    "while counter < 11:\n",
    "    \n",
    "    counter += 1\n",
    "    print(counter)\n"
   ]
  },
  {
   "cell_type": "code",
   "execution_count": 127,
   "metadata": {
    "scrolled": true
   },
   "outputs": [
    {
     "name": "stdout",
     "output_type": "stream",
     "text": [
      "900\n",
      "841\n",
      "784\n",
      "729\n",
      "676\n",
      "625\n",
      "576\n",
      "529\n",
      "484\n",
      "441\n",
      "400\n",
      "361\n",
      "324\n",
      "289\n",
      "256\n"
     ]
    }
   ],
   "source": [
    "num = 30\n",
    "\n",
    "while num > 15:\n",
    "    print(num**2)\n",
    "    num -= 1"
   ]
  },
  {
   "cell_type": "code",
   "execution_count": 134,
   "metadata": {},
   "outputs": [
    {
     "name": "stdout",
     "output_type": "stream",
     "text": [
      "0\n",
      "1\n",
      "4\n",
      "9\n",
      "16\n",
      "25\n",
      "36\n",
      "49\n",
      "64\n",
      "81\n",
      "100\n",
      "121\n",
      "144\n",
      "169\n",
      "196\n",
      "225\n"
     ]
    }
   ],
   "source": [
    "num = 0\n",
    "\n",
    "while num <= 15:\n",
    "    print(num**2)\n",
    "    num += 1"
   ]
  },
  {
   "cell_type": "markdown",
   "metadata": {},
   "source": [
    "##### looping 'While True'"
   ]
  },
  {
   "cell_type": "code",
   "execution_count": 135,
   "metadata": {},
   "outputs": [
    {
     "name": "stdout",
     "output_type": "stream",
     "text": [
      "non stop baby\n",
      "say quit to stop \n",
      "infinite loop\n",
      "say quit to stop \n",
      "infinite loop\n",
      "say quit to stop \n",
      "infinite loop\n",
      "say quit to stop \n",
      "infinite loop\n",
      "say quit to stop sf\n",
      "infinite loop\n",
      "say quit to stop sf\n",
      "infinite loop\n",
      "say quit to stop sfs\n",
      "infinite loop\n",
      "say quit to stop quit\n",
      "so long alligator\n"
     ]
    }
   ],
   "source": [
    "# true as a condition for while loop to run\n",
    "\n",
    "game_over = False\n",
    "\n",
    "while True:\n",
    "    print(\"non stop baby\")\n",
    "    if game_over == False:\n",
    "        break\n",
    "\n",
    "while True:\n",
    "    \n",
    "    quit = input(\"say quit to stop \")\n",
    "    if quit == \"quit\":\n",
    "        print(\"so long alligator\")\n",
    "        break\n",
    "    else:\n",
    "        print(\"infinite loop\")"
   ]
  },
  {
   "cell_type": "markdown",
   "metadata": {},
   "source": [
    "##### While & For Loops Used Together"
   ]
  },
  {
   "cell_type": "code",
   "execution_count": 141,
   "metadata": {
    "scrolled": true
   },
   "outputs": [
    {
     "name": "stdout",
     "output_type": "stream",
     "text": [
      "handstand set 1\n",
      "handstand count 1\n",
      "handstand count 2\n",
      "handstand count 3\n",
      "handstand count 4\n",
      "\n",
      "\n",
      "handstand set 2\n",
      "handstand count 1\n",
      "handstand count 2\n",
      "handstand count 3\n",
      "handstand count 4\n",
      "\n",
      "\n",
      "handstand set 3\n",
      "handstand count 1\n",
      "handstand count 2\n",
      "handstand count 3\n",
      "handstand count 4\n",
      "\n",
      "\n",
      "handstand set 4\n",
      "handstand count 1\n",
      "handstand count 2\n",
      "handstand count 3\n",
      "handstand count 4\n",
      "\n",
      "\n",
      "handstand set 5\n",
      "handstand count 1\n",
      "handstand count 2\n",
      "handstand count 3\n",
      "handstand count 4\n",
      "\n",
      "\n",
      "handstand set 6\n",
      "handstand count 1\n",
      "handstand count 2\n",
      "handstand count 3\n",
      "handstand count 4\n",
      "\n",
      "\n",
      "handstand set 7\n",
      "handstand count 1\n",
      "handstand count 2\n",
      "handstand count 3\n",
      "handstand count 4\n",
      "\n",
      "\n",
      "handstand set 8\n",
      "handstand count 1\n",
      "handstand count 2\n",
      "handstand count 3\n",
      "handstand count 4\n",
      "\n",
      "\n",
      "handstand set 9\n",
      "handstand count 1\n",
      "handstand count 2\n",
      "handstand count 3\n",
      "handstand count 4\n",
      "\n",
      "\n"
     ]
    }
   ],
   "source": [
    "j = 1\n",
    "\n",
    "while j < 10:\n",
    "    \n",
    "    print(\"handstand set\", j)\n",
    "    \n",
    "    for i in range(1, 5):\n",
    "        \n",
    "        print(\"handstand count\", i)\n",
    "    print(\"\\n\")\n",
    "    j += 1"
   ]
  },
  {
   "cell_type": "code",
   "execution_count": 151,
   "metadata": {},
   "outputs": [
    {
     "name": "stdout",
     "output_type": "stream",
     "text": [
      "handstand set 1\n",
      "handstand count 1\n",
      "handstand count 2\n",
      "handstand count 3\n",
      "handstand count 4\n",
      "\n",
      "\n",
      "handstand set 2\n",
      "handstand count 1\n",
      "handstand count 2\n",
      "handstand count 3\n",
      "handstand count 4\n",
      "\n",
      "\n",
      "handstand set 3\n",
      "handstand count 1\n",
      "handstand count 2\n",
      "handstand count 3\n",
      "handstand count 4\n",
      "\n",
      "\n",
      "handstand set 4\n",
      "handstand count 1\n",
      "handstand count 2\n",
      "handstand count 3\n",
      "handstand count 4\n",
      "\n",
      "\n",
      "handstand set 5\n",
      "handstand count 1\n",
      "handstand count 2\n",
      "handstand count 3\n",
      "handstand count 4\n",
      "\n",
      "\n",
      "handstand set 6\n",
      "handstand count 1\n",
      "handstand count 2\n",
      "handstand count 3\n",
      "handstand count 4\n",
      "\n",
      "\n",
      "handstand set 7\n",
      "handstand count 1\n",
      "handstand count 2\n",
      "handstand count 3\n",
      "handstand count 4\n",
      "\n",
      "\n",
      "handstand set 8\n",
      "handstand count 1\n",
      "handstand count 2\n",
      "handstand count 3\n",
      "handstand count 4\n",
      "\n",
      "\n",
      "handstand set 9\n",
      "handstand count 1\n",
      "handstand count 2\n",
      "handstand count 3\n",
      "handstand count 4\n",
      "\n",
      "\n"
     ]
    }
   ],
   "source": [
    "j = 1\n",
    "\n",
    "while j < 10:\n",
    "    \n",
    "    print(\"handstand set\", j)\n",
    "    \n",
    "    for i in range(5):\n",
    "        \n",
    "        if i == 0:\n",
    "            continue\n",
    "        \n",
    "        print(\"handstand count\", i)\n",
    "    print(\"\\n\")\n",
    "    j += 1"
   ]
  },
  {
   "cell_type": "markdown",
   "metadata": {},
   "source": [
    "##### The Range Function"
   ]
  },
  {
   "cell_type": "code",
   "execution_count": 164,
   "metadata": {},
   "outputs": [
    {
     "name": "stdout",
     "output_type": "stream",
     "text": [
      "0\n",
      "1\n",
      "2\n",
      "3\n",
      "4\n",
      "5\n",
      "6\n",
      "7\n",
      "8\n",
      "9\n",
      "\n",
      "\n",
      "1\n",
      "2\n",
      "3\n",
      "4\n",
      "5\n",
      "6\n",
      "7\n",
      "8\n",
      "9\n",
      "\n",
      "\n",
      "1\n",
      "3\n",
      "5\n",
      "7\n",
      "9\n",
      "\n",
      "\n"
     ]
    }
   ],
   "source": [
    "# range(start, stop, step) - stop is required and start defaults to 0 if none is given\n",
    "\n",
    "# stop\n",
    "for num in range(10):\n",
    "    print(num)\n",
    "print(\"\\n\")\n",
    "\n",
    "# start, stop\n",
    "for num in range(1, 10):\n",
    "    print(num)\n",
    "print(\"\\n\")\n",
    "    \n",
    "# step\n",
    "for num in range(1, 10, 2):\n",
    "    print(num)\n",
    "print(\"\\n\")"
   ]
  },
  {
   "cell_type": "markdown",
   "metadata": {},
   "source": [
    "### String Manipulation Exercise"
   ]
  },
  {
   "cell_type": "code",
   "execution_count": 174,
   "metadata": {
    "scrolled": true
   },
   "outputs": [
    {
     "name": "stdout",
     "output_type": "stream",
     "text": [
      "Connor\n",
      "Max\n",
      "Evan\n",
      "Jordan\n",
      "here is the list of names ['Connor', 'Max', 'Evan', 'Jordan']\n"
     ]
    }
   ],
   "source": [
    "names = ['    coNNor', 'max', ' EVan ', 'JORDAN']\n",
    "# HINT: You will need to use a for loop for iteration\n",
    "# Loop through the names list, remove white space and capitalize the first letter of each name. Print each new name.\n",
    "lis = []\n",
    "\n",
    "for x in names:\n",
    "    name = x.split()\n",
    "    \n",
    "    for y in name:\n",
    "        final = y.title()\n",
    "        print(final)\n",
    "        \n",
    "    lis += [final]\n",
    "    \n",
    "print(\"here is the list of names\", lis)"
   ]
  },
  {
   "cell_type": "code",
   "execution_count": 181,
   "metadata": {},
   "outputs": [
    {
     "name": "stdout",
     "output_type": "stream",
     "text": [
      "Connor\n",
      "Max\n",
      "Evan\n",
      "Jordan\n"
     ]
    }
   ],
   "source": [
    "for x in names:\n",
    "    print(x.strip().title())"
   ]
  },
  {
   "cell_type": "code",
   "execution_count": 183,
   "metadata": {},
   "outputs": [
    {
     "name": "stdout",
     "output_type": "stream",
     "text": [
      "['Connor', 'Max', 'Evan', 'Jordan']\n"
     ]
    }
   ],
   "source": [
    "clean_names = []\n",
    "\n",
    "for name in names:\n",
    "    clean_names.append(name.strip().title())\n",
    "\n",
    "print(clean_names)"
   ]
  },
  {
   "cell_type": "markdown",
   "metadata": {},
   "source": [
    "## Lists"
   ]
  },
  {
   "cell_type": "markdown",
   "metadata": {},
   "source": [
    "##### Declaring Lists"
   ]
  },
  {
   "cell_type": "code",
   "execution_count": 234,
   "metadata": {},
   "outputs": [
    {
     "name": "stdout",
     "output_type": "stream",
     "text": [
      "['alex', 'liz', 'ryan', 'justin', 'alex']\n",
      "[1, 2, 3, 4, 5]\n",
      "[1, 'steve', 'johnny', 21]\n"
     ]
    }
   ],
   "source": [
    "names = [\"alex\", \"liz\", \"ryan\", \"justin\", \"alex\"]\n",
    "print(names)\n",
    "\n",
    "num = [1, 2, 3, 4, 5]\n",
    "print(num)\n",
    "\n",
    "things = [1, \"steve\", \"johnny\", 21]\n",
    "print(things)\n"
   ]
  },
  {
   "cell_type": "markdown",
   "metadata": {},
   "source": [
    "##### Indexing a List"
   ]
  },
  {
   "cell_type": "code",
   "execution_count": 266,
   "metadata": {},
   "outputs": [
    {
     "name": "stdout",
     "output_type": "stream",
     "text": [
      "alex\n",
      "mo\n",
      "['liz', 'ryan', 'justin', 'alex', 'mo']\n",
      "[1, 2, 3, 4]\n",
      "['johnny', 'appleseed', 'steve', 'jobs']\n",
      "['mo', 'alex', 'justin', 'ryan', 'liz', 'alex']\n",
      "[5, 4, 3, 2, 1]\n"
     ]
    }
   ],
   "source": [
    "# [start: stop: step] --> last item [-1]\n",
    "\n",
    "names = [\"alex\", \"liz\", \"ryan\", \"justin\", \"alex\", \"mo\"]\n",
    "num = [1, 2, 3, 4, 5]\n",
    "things = [1, \"johnny\", 21, \"appleseed\", 141, \"steve\", \"walker\", \"jobs\"]\n",
    "\n",
    "print(names[0])\n",
    "print(names[-1])\n",
    "\n",
    "\n",
    "### List Slicing\n",
    "\n",
    "# start at index 1 to end of list\n",
    "print(names[1:])\n",
    "\n",
    "# start at index 4 back to beginning of list\n",
    "print(num[:4])\n",
    "\n",
    "# start at index 1 and step 2\n",
    "print(things[1::2])\n",
    "\n",
    "# reverse list\n",
    "print(names[::-1])\n",
    "\n",
    "rev_num = num[::-1]\n",
    "print(rev_num)\n"
   ]
  },
  {
   "cell_type": "markdown",
   "metadata": {},
   "source": [
    "### List Methods"
   ]
  },
  {
   "cell_type": "markdown",
   "metadata": {},
   "source": [
    "##### .append()"
   ]
  },
  {
   "cell_type": "code",
   "execution_count": 269,
   "metadata": {},
   "outputs": [
    {
     "name": "stdout",
     "output_type": "stream",
     "text": [
      "['alex', 'liz', 'ryan', 'justin', 'alex', 'mo', 'william']\n",
      "['alex', 'liz', 'ryan', 'justin', 'alex', 'mo', 'william', 'jeiavonni']\n"
     ]
    }
   ],
   "source": [
    "# append will always add to end of list\n",
    "\n",
    "names = [\"alex\", \"liz\", \"ryan\", \"justin\", \"alex\", \"mo\"]\n",
    "num = [1, 2, 3, 4, 5]\n",
    "things = [1, \"johnny\", 21, \"appleseed\", 141, \"steve\", \"walker\", \"jobs\"]\n",
    "\n",
    "names.append(\"william\")\n",
    "print(names)\n",
    "\n",
    "names.append(\"jeiavonni\")\n",
    "print(names)\n"
   ]
  },
  {
   "cell_type": "markdown",
   "metadata": {},
   "source": [
    "##### .insert()"
   ]
  },
  {
   "cell_type": "code",
   "execution_count": 277,
   "metadata": {},
   "outputs": [
    {
     "name": "stdout",
     "output_type": "stream",
     "text": [
      "['alex', 'Morgan', 'liz', 'ryan', 'justin', 'alex', 'mo']\n",
      "['alex', 'Morgan', 'liz', 'ryan', 'justin', 'Razvan', 'alex', 'mo']\n"
     ]
    }
   ],
   "source": [
    "#our_list.insert(index, value)\n",
    "\n",
    "names = [\"alex\", \"liz\", \"ryan\", \"justin\", \"alex\", \"mo\"]\n",
    "num = [1, 2, 3, 4, 5]\n",
    "things = [1, \"johnny\", 21, \"appleseed\", 141, \"steve\", \"walker\", \"jobs\"]\n",
    "\n",
    "names.insert(1, \"Morgan\")\n",
    "print(names)\n",
    "\n",
    "names.insert(5, \"Razvan\")\n",
    "print(names)\n"
   ]
  },
  {
   "cell_type": "markdown",
   "metadata": {},
   "source": [
    "##### .pop()"
   ]
  },
  {
   "cell_type": "code",
   "execution_count": 283,
   "metadata": {
    "scrolled": true
   },
   "outputs": [
    {
     "name": "stdout",
     "output_type": "stream",
     "text": [
      "['alex', 'liz', 'ryan', 'justin', 'mo']\n",
      "liz\n"
     ]
    }
   ],
   "source": [
    "# default is the last value if no parameter is given\n",
    "# pop returns the element that was removed in case you want to assign it into a variable\n",
    "\n",
    "\n",
    "# list.pop(optional index to pop out)\n",
    "\n",
    "names = [\"alex\", \"liz\", \"ryan\", \"justin\", \"alex\", \"mo\"]\n",
    "names.pop(4)\n",
    "print(names)\n",
    "\n",
    "pop_names = names.pop(1)\n",
    "print(pop_names)\n"
   ]
  },
  {
   "cell_type": "markdown",
   "metadata": {},
   "source": [
    "##### .remove()"
   ]
  },
  {
   "cell_type": "code",
   "execution_count": 284,
   "metadata": {},
   "outputs": [
    {
     "name": "stdout",
     "output_type": "stream",
     "text": [
      "['alex', 'razvan', 'liz', 'ryan', 'justin', 'alex', 'mo']\n",
      "['alex', 'razvan', 'liz', 'ryan', 'razvan', 'justin', 'alex', 'mo']\n",
      "['alex', 'liz', 'ryan', 'razvan', 'justin', 'alex', 'mo']\n"
     ]
    }
   ],
   "source": [
    "# value to be removed, not an index\n",
    "names = [\"alex\", \"liz\", \"ryan\", \"justin\", \"alex\", \"mo\"]\n",
    "num = [1, 2, 3, 4, 5]\n",
    "things = [1, \"johnny\", 21, \"appleseed\", 141, \"steve\", \"walker\", \"jobs\"]\n",
    "\n",
    "names.insert(1, \"razvan\")\n",
    "print(names)\n",
    "\n",
    "names.insert(4, \"razvan\")\n",
    "print(names)\n",
    "\n",
    "names.remove(\"razvan\")\n",
    "print(names)\n"
   ]
  },
  {
   "cell_type": "markdown",
   "metadata": {},
   "source": [
    "### Working With Lists"
   ]
  },
  {
   "cell_type": "markdown",
   "metadata": {},
   "source": [
    "##### del()"
   ]
  },
  {
   "cell_type": "code",
   "execution_count": 289,
   "metadata": {},
   "outputs": [
    {
     "name": "stdout",
     "output_type": "stream",
     "text": [
      "['liz', 'justin', 'alex', 'mo', 'morgan', 'razvan', 'jeiavonni', 'william']\n"
     ]
    }
   ],
   "source": [
    "# index to be removed, not value \n",
    "\n",
    "names = [\"alex\", \"ryan\", \"liz\", \"justin\", \"alex\", \"mo\", \"morgan\", \"razvan\", \"jeiavonni\", \"william\" ]\n",
    "del names[0:2] # able to slice\n",
    "print(names)\n",
    "\n"
   ]
  },
  {
   "cell_type": "markdown",
   "metadata": {},
   "source": [
    "##### min()"
   ]
  },
  {
   "cell_type": "code",
   "execution_count": 298,
   "metadata": {},
   "outputs": [
    {
     "name": "stdout",
     "output_type": "stream",
     "text": [
      "0\n",
      "-4\n",
      "Mo\n",
      "alex\n"
     ]
    }
   ],
   "source": [
    "# return the smallest item in a list\n",
    "num = [1, 2, 3, 4, 5, 6, 7, 8, 9, 10, 0]\n",
    "\n",
    "print(min(num))\n",
    "\n",
    "num = [1, 2, 3, 4, 5, 6, 7, 8, 9, 10, -4]\n",
    "\n",
    "min_num = min(num)\n",
    "print(min_num)\n",
    "\n",
    "# Capital letter is taken first \n",
    "names = [\"alex\", \"Ryan\", \"liz\", \"justin\", \"alex\", \"Mo\", \"morgan\", \"razvan\", \"jeiavonni\", \"william\" ]\n",
    "print(min(names))\n",
    "\n",
    "names = [\"alex\", \"ryan\", \"liz\", \"justin\", \"alex\", \"mo\", \"morgan\", \"razvan\", \"jeiavonni\", \"william\" ]\n",
    "print(min(names))"
   ]
  },
  {
   "cell_type": "markdown",
   "metadata": {},
   "source": [
    "##### max()"
   ]
  },
  {
   "cell_type": "code",
   "execution_count": 299,
   "metadata": {},
   "outputs": [
    {
     "name": "stdout",
     "output_type": "stream",
     "text": [
      "12\n",
      "10\n",
      "william\n",
      "william\n"
     ]
    }
   ],
   "source": [
    "# returns largest item in a list\n",
    "\n",
    "num = [12, 1, 2, 3, 4, 5, 6, 7, 8, 9, 10, 0]\n",
    "\n",
    "print(max(num))\n",
    "\n",
    "num = [1, 2, 3, 4, 5, 6, 7, 8, 9, 10, -4]\n",
    "\n",
    "max_num = max(num)\n",
    "print(max_num)\n",
    "\n",
    "# lowercase letter is taken first \n",
    "names = [\"alex\", \"Ryan\", \"liz\", \"justin\", \"alex\", \"Mo\", \"morgan\", \"razvan\", \"jeiavonni\", \"william\" ]\n",
    "print(max(names))\n",
    "\n",
    "names = [\"alex\", \"ryan\", \"liz\", \"justin\", \"alex\", \"mo\", \"morgan\", \"razvan\", \"jeiavonni\", \"william\" ]\n",
    "print(max(names))"
   ]
  },
  {
   "cell_type": "markdown",
   "metadata": {},
   "source": [
    "##### sum()"
   ]
  },
  {
   "cell_type": "code",
   "execution_count": 300,
   "metadata": {},
   "outputs": [
    {
     "name": "stdout",
     "output_type": "stream",
     "text": [
      "51\n"
     ]
    }
   ],
   "source": [
    "# return the sum of all numbers in a list\n",
    "\n",
    "\n",
    "num = [1, 2, 3, 4, 5, 6, 7, 8, 9, 10, -4]\n",
    "\n",
    "print(sum(num))"
   ]
  },
  {
   "cell_type": "markdown",
   "metadata": {},
   "source": [
    "##### sorted()"
   ]
  },
  {
   "cell_type": "code",
   "execution_count": 302,
   "metadata": {},
   "outputs": [
    {
     "name": "stdout",
     "output_type": "stream",
     "text": [
      "[0, 1, 2, 3, 4, 5, 6, 7, 8, 9, 10, 12]\n",
      "[-4, 1, 2, 3, 4, 5, 6, 7, 8, 9, 10]\n"
     ]
    }
   ],
   "source": [
    "#sorted will return a new sorted list, create a new variable\n",
    "num = [12, 1, 2, 3, 4, 5, 6, 7, 8, 9, 10, 0]\n",
    "\n",
    "print(sorted(num))\n",
    "\n",
    "num = [1, 2, 3, 4, 5, 6, 7, 8, 9, 10, -4]\n",
    "\n",
    "sort_num = sorted(num)\n",
    "print(sort_num)"
   ]
  },
  {
   "cell_type": "markdown",
   "metadata": {},
   "source": [
    "##### .sort() <br>\n",
    "<p>Difference between sort and sorted, is that sorted doesn't change original list it returns a copy, while .sort changes the original list</p>"
   ]
  },
  {
   "cell_type": "code",
   "execution_count": 332,
   "metadata": {},
   "outputs": [
    {
     "name": "stdout",
     "output_type": "stream",
     "text": [
      "[-4, 1, 2, 3, 4, 5, 6, 7, 8, 9, 10]\n",
      "['Alex', 'Razvan', 'Ryan', 'alex', 'jeiavonni', 'justin', 'liz', 'mo', 'morgan', 'william']\n"
     ]
    }
   ],
   "source": [
    "#.sort() will sort the original list\n",
    "\n",
    "num = [1, 2, 3, 4, 5, 6, 7, 8, 9, 10, -4]\n",
    "num.sort()\n",
    "print(num)\n",
    "\n",
    "names = [\"alex\", \"Ryan\", \"liz\", \"justin\", \"Alex\", \"mo\", \"morgan\", \"Razvan\", \"jeiavonni\", \"william\" ]\n",
    "names.sort()\n",
    "print(names)\n"
   ]
  },
  {
   "cell_type": "markdown",
   "metadata": {},
   "source": [
    "##### Copying a List"
   ]
  },
  {
   "cell_type": "code",
   "execution_count": 307,
   "metadata": {},
   "outputs": [
    {
     "name": "stdout",
     "output_type": "stream",
     "text": [
      "['alex', 'Ryan', 'liz', 'justin', 'Alex', 'mo', 'morgan', 'Razvan', 'jeiavonni', 'william']\n",
      "['alex', 'Ryan', 'liz', 'justin', 'Alex', 'mo', 'morgan', 'Razvan', 'jeiavonni', 'william']\n"
     ]
    }
   ],
   "source": [
    "# [:] copies a list, doesn't alter original'\n",
    "names = [\"alex\", \"Ryan\", \"liz\", \"justin\", \"Alex\", \"mo\", \"morgan\", \"Razvan\", \"jeiavonni\", \"william\" ]\n",
    "print(names[:])\n",
    "names_copy = names[:]\n",
    "print(names_copy)"
   ]
  },
  {
   "cell_type": "markdown",
   "metadata": {},
   "source": [
    "##### Looping Through Lists"
   ]
  },
  {
   "cell_type": "code",
   "execution_count": 316,
   "metadata": {},
   "outputs": [
    {
     "name": "stdout",
     "output_type": "stream",
     "text": [
      "0 Han Solo\n",
      "1 Leia Organa\n",
      "2 Luke Skywalker\n",
      "3 Lando Calrissian\n",
      "4 Mace Windu\n",
      "\n",
      "\n",
      "0 Han Solo\n",
      "1 Leia Organa\n",
      "2 Luke Skywalker\n",
      "3 Lando Calrissian\n",
      "4 Mace Windu\n",
      "\n",
      "\n",
      "Han Solo\n",
      "Leia Organa\n",
      "Luke Skywalker\n",
      "Lando Calrissian\n",
      "Mace Windu\n"
     ]
    }
   ],
   "source": [
    "#Two ways to loop through a list. one is by index and the other is by value, using the \"in\" keyword\n",
    "names = [\"Han Solo\", \"Leia Organa\", \"Luke Skywalker\", \"Lando Calrissian\", \"Mace Windu\"]\n",
    "\n",
    "# enumerate\n",
    "for i, n in enumerate(names):\n",
    "    print (i, n)\n",
    "\n",
    "print(\"\\n\")    \n",
    "\n",
    "# looping by index\n",
    "for i in range(len(names)):\n",
    "    print(i, names[i])\n",
    "    \n",
    "print(\"\\n\")\n",
    "for name in names:\n",
    "    print(name)"
   ]
  },
  {
   "cell_type": "markdown",
   "metadata": {},
   "source": [
    "##### 'in' keyword"
   ]
  },
  {
   "cell_type": "code",
   "execution_count": 324,
   "metadata": {},
   "outputs": [
    {
     "name": "stdout",
     "output_type": "stream",
     "text": [
      "go liz go\n",
      "go figured\n"
     ]
    }
   ],
   "source": [
    "names = [\"alex\", \"Ryan\", \"liz\", \"justin\", \"Alex\", \"mo\", \"morgan\", \"Razvan\", \"jeiavonni\", \"william\" ]\n",
    "\n",
    "if \"liz\" in names:\n",
    "    print(\"go liz go\")\n",
    "else:\n",
    "    print(\"no liz found\")\n",
    "    \n",
    "if \"liz\" in names and \"duck\" in names:\n",
    "    print(\"how wild\")\n",
    "else:\n",
    "    print(\"go figured\")\n"
   ]
  },
  {
   "cell_type": "markdown",
   "metadata": {},
   "source": [
    "##### 'not in' keyword"
   ]
  },
  {
   "cell_type": "code",
   "execution_count": 325,
   "metadata": {},
   "outputs": [
    {
     "name": "stdout",
     "output_type": "stream",
     "text": [
      "how wild\n"
     ]
    }
   ],
   "source": [
    "names = [\"alex\", \"Ryan\", \"liz\", \"justin\", \"Alex\", \"mo\", \"morgan\", \"Razvan\", \"jeiavonni\", \"william\" ]\n",
    "\n",
    "if \"duck\" not in names:\n",
    "    print(\"how wild\")\n",
    "else:\n",
    "    print(\"go figured\")"
   ]
  },
  {
   "cell_type": "markdown",
   "metadata": {},
   "source": [
    "##### Checking an Empty List"
   ]
  },
  {
   "cell_type": "code",
   "execution_count": 339,
   "metadata": {},
   "outputs": [
    {
     "name": "stdout",
     "output_type": "stream",
     "text": [
      "list is empty\n",
      "both empty\n",
      "is empty\n",
      "\n",
      "\n",
      "list is empty\n",
      "both empty\n",
      "is empty\n"
     ]
    }
   ],
   "source": [
    "lis = []\n",
    "lis2 = []\n",
    "\n",
    "if lis == []:\n",
    "    print(\"list is empty\")\n",
    "    \n",
    "if lis == lis2:\n",
    "    print(\"both empty\")\n",
    "else:\n",
    "    print(\"has stuff\")\n",
    "    \n",
    "if lis:\n",
    "    print(\"has stuff\")\n",
    "else:\n",
    "    print(\"is empty\")\n",
    "    \n",
    "print(\"\\n\")\n",
    "lis3 = []\n",
    "lis4 = []\n",
    "\n",
    "if lis3 == []:\n",
    "    print(\"list is empty\")\n",
    "    \n",
    "if lis3 == lis4:\n",
    "    print(\"both empty\")\n",
    "else:\n",
    "    print(\"has stuff\")\n",
    "    \n",
    "if lis3:\n",
    "    print(\"has stuff\")\n",
    "else:\n",
    "    print(\"is empty\")"
   ]
  },
  {
   "cell_type": "markdown",
   "metadata": {},
   "source": [
    "##### Removing Instances with a Loop"
   ]
  },
  {
   "cell_type": "code",
   "execution_count": 365,
   "metadata": {},
   "outputs": [
    {
     "name": "stdout",
     "output_type": "stream",
     "text": [
      "['ryan', 'liz', 'justin', 'mo', 'morgan', 'razvan', 'jeiavonni', 'william']\n",
      "['ryan', 'liz', 'justin', 'alex', 'mo', 'morgan', 'razvan', 'jeiavonni', 'william']\n",
      "['ryan', 'liz', 'justin', 'mo', 'morgan', 'razvan', 'jeiavonni', 'william']\n"
     ]
    }
   ],
   "source": [
    "#while, remove\n",
    "\n",
    "names = [\"alex\", \"ryan\", \"liz\", \"justin\", \"alex\", \"mo\", \"morgan\", \"razvan\", \"jeiavonni\", \"william\" ]\n",
    "\n",
    "for name in names:\n",
    "    if name == \"alex\":\n",
    "        names.remove(name)\n",
    "print(names)\n",
    "\n",
    "# if two names are right next to each other, computer gets tricked because alex on names[4] is removed \n",
    "# and alex on names[5] now becomes names[4] and the computer misses it\n",
    "names = [\"alex\", \"ryan\", \"liz\", \"justin\", \"alex\", \"alex\", \"mo\", \"morgan\", \"razvan\", \"jeiavonni\", \"william\" ]\n",
    "\n",
    "for name in names:\n",
    "    if name == \"alex\":\n",
    "        names.remove(name)\n",
    "print(names)\n",
    "\n",
    "\n",
    "## while loop\n",
    "names = [\"alex\", \"ryan\", \"liz\", \"justin\", \"alex\", \"mo\", \"morgan\", \"razvan\", \"jeiavonni\", \"william\" ]\n",
    "while \"alex\" in names:\n",
    "    names.remove(\"alex\")\n",
    "print(names)"
   ]
  },
  {
   "cell_type": "markdown",
   "metadata": {},
   "source": [
    "### List Exercise <br>\n",
    "<p>Remove all duplicates<br><b>Extra: Create a program that will remove any duplicates from a given list</b></p>"
   ]
  },
  {
   "cell_type": "code",
   "execution_count": 367,
   "metadata": {},
   "outputs": [
    {
     "name": "stdout",
     "output_type": "stream",
     "text": [
      "['connor', 'bob', 'evan', 'max', 2, 3, 4, 'kevin']\n",
      "[2, 'max', 3, 'connor', 4, 'kevin', 'bob', 'evan']\n",
      "[2, 'max', 3, 'connor', 4, 'kevin', 'bob', 'evan']\n"
     ]
    },
    {
     "data": {
      "text/plain": [
       "['connor', 'bob', 'evan', 'max', 2, 3, 4, 'kevin']"
      ]
     },
     "execution_count": 367,
     "metadata": {},
     "output_type": "execute_result"
    }
   ],
   "source": [
    "names = ['connor', 'connor', 'bob', 'connor', 'evan', 'max', 'evan', 2, 2, 2, 3, 3, 4, 'bob', 'kevin']\n",
    "# Hint 1: You will need an append\n",
    "# Hint 2: Using an empty list will make life easier\n",
    "\n",
    "\n",
    "# The way of the hint\n",
    "\n",
    "no_repeat = []\n",
    "\n",
    "for i in names:\n",
    "    \n",
    "    if i not in no_repeat:\n",
    "        no_repeat.append(i)\n",
    "        \n",
    "print(no_repeat)\n",
    "\n",
    "# Work smarter not harder\n",
    "\n",
    "one_of_kind = list(set(names))\n",
    "print(one_of_kind)\n",
    "\n",
    "#or\n",
    "\n",
    "print(list(set(names)))\n",
    "          \n",
    "# Now make it a function\n",
    "\n",
    "def no_repeat(names):\n",
    "    no_repeat = []\n",
    "\n",
    "    for i in names:\n",
    "\n",
    "        if i not in no_repeat:\n",
    "            no_repeat.append(i)\n",
    "    return(no_repeat)\n",
    "\n",
    "no_repeat(names)"
   ]
  },
  {
   "cell_type": "code",
   "execution_count": 381,
   "metadata": {},
   "outputs": [
    {
     "name": "stdout",
     "output_type": "stream",
     "text": [
      "[4, 16, 36, 64, 100]\n"
     ]
    }
   ],
   "source": [
    "nums = [1, 2, 3, 4, 5, 6, 7, 8, 9, 10]\n",
    "squared_nums = []\n",
    "\n",
    "for number in nums:\n",
    "    if number % 2 == 0:\n",
    "        number = number ** 2\n",
    "        squared_nums.append(number)\n",
    "        \n",
    "print(squared_nums)"
   ]
  },
  {
   "cell_type": "markdown",
   "metadata": {},
   "source": [
    "### List Comprehensions <br>\n",
    "<p>Creating a quickly generated list to work with<br>*result*  = [*transform*    *iteration*         *filter*     ]</p>"
   ]
  },
  {
   "cell_type": "markdown",
   "metadata": {},
   "source": [
    "##### In a list comprehension we have a few pieces:\n",
    "1. The first is the counter/ variable - IN this the variable is x\n",
    "2. then we have a transform for the variable\n",
    "3. The finale part of a list comp is called the condition\n",
    "\n",
    "```python\n",
    "    [transform, iteration/variable, condition]\n",
    "```"
   ]
  },
  {
   "cell_type": "code",
   "execution_count": 382,
   "metadata": {
    "scrolled": true
   },
   "outputs": [
    {
     "name": "stdout",
     "output_type": "stream",
     "text": [
      "[4, 16, 36, 64, 100]\n",
      "[4, 16, 36, 64, 100]\n"
     ]
    }
   ],
   "source": [
    "# transform\n",
    "nums = [2, 4, 5, 6, 7, 8, 9, 10]\n",
    "nums_squared = [x**2 for x in nums if x%2 == 0]\n",
    "print(nums_squared)\n",
    "\n",
    "# how nums_squared looks like written out\n",
    "squared_num = []\n",
    "\n",
    "for number in nums:\n",
    "    if number % 2 == 0:\n",
    "        number = number ** 2\n",
    "        squared_num.append(number)\n",
    "        \n",
    "print(squared_num)"
   ]
  },
  {
   "cell_type": "markdown",
   "metadata": {},
   "source": [
    "There are a few benefits to using List comprehensions. The most obvious would be that we now have shorter code to work with instead of using 3+ lines of code in the for loop variant.\n",
    "\n",
    "Another is an added benefit to memory usage. Since the list's memory is allocated first before adding elements to it, we don't have to resize the list once we add elements to it.\n",
    "\n",
    "Lastly, list comprehensions are considered the \"pythonic\" way to write code by the PEP8 standards (Python Style Guide)"
   ]
  },
  {
   "cell_type": "markdown",
   "metadata": {},
   "source": [
    "### Tuples <br>\n",
    "<p><b>Defined as an immutable list</b></p><br>Seperated by commas using parenthesis"
   ]
  },
  {
   "cell_type": "code",
   "execution_count": 392,
   "metadata": {},
   "outputs": [
    {
     "name": "stdout",
     "output_type": "stream",
     "text": [
      "<class 'tuple'>\n",
      "length of this tuple is  3\n",
      "(1, 2, 3) (1, 2, 3)\n",
      "yurrr\n",
      "4\n",
      "5\n",
      "6\n",
      "<class 'tuple'>\n"
     ]
    }
   ],
   "source": [
    "tup_1 = (1, 2, 3)\n",
    "print(type(tup_1))\n",
    "\n",
    "tup_2 = 1, 2, 3\n",
    "print(\"length of this tuple is \", len(tup_2))\n",
    "\n",
    "\n",
    "print(tup_1, tup_2)\n",
    "\n",
    "if tup_1 == tup_2:\n",
    "    print(\"yurrr\")\n",
    "else:\n",
    "    print(\"boo\")\n",
    "    \n",
    "tup_3 = 4, 5, 6\n",
    "\n",
    "for num in tup_3:\n",
    "    print(num)\n",
    "\n",
    "print(type(tup_1))"
   ]
  },
  {
   "cell_type": "markdown",
   "metadata": {},
   "source": [
    "##### sorted()"
   ]
  },
  {
   "cell_type": "code",
   "execution_count": 401,
   "metadata": {},
   "outputs": [
    {
     "name": "stdout",
     "output_type": "stream",
     "text": [
      "[0, 1, 30, 34, 64]\n",
      "[2, 8, 10, 24]\n",
      "(2, 8, 10, 24, 0, 1, 30, 34, 64)\n",
      "(2, 8, 10, 24, 0, 1, 30, 34, 64, 0, 1, 64, 34, 30)\n"
     ]
    }
   ],
   "source": [
    "tup = (0, 1, 64, 34, 30)\n",
    "sorted_tup= sorted(tup)\n",
    "print(sorted_tup)\n",
    "\n",
    "lis = [2, 8, 10, 24]\n",
    "sorted_lis = sorted(lis)\n",
    "print(sorted_lis)\n",
    "\n",
    "sorted_lis = tuple(sorted_lis)\n",
    "sorted_tup = tuple(sorted_tup)\n",
    "\n",
    "new_tup_list = sorted_lis + sorted_tup\n",
    "\n",
    "print(new_tup_list)\n",
    "\n",
    "new_new = sorted_lis + sorted_tup + tup\n",
    "print(new_new)"
   ]
  },
  {
   "cell_type": "markdown",
   "metadata": {},
   "source": [
    "##### Adding values to a Tuple"
   ]
  },
  {
   "cell_type": "code",
   "execution_count": 403,
   "metadata": {},
   "outputs": [
    {
     "name": "stdout",
     "output_type": "stream",
     "text": [
      "(0, 1, 64, 34, 30)\n",
      "(0, 1, 64, 34, 30, 6)\n"
     ]
    }
   ],
   "source": [
    "tup = (0, 1, 64, 34, 30)\n",
    "print(tup)\n",
    "\n",
    "tup = tup + (6, )\n",
    "\n",
    "print(tup)"
   ]
  },
  {
   "cell_type": "markdown",
   "metadata": {},
   "source": [
    "# Exercises"
   ]
  },
  {
   "cell_type": "markdown",
   "metadata": {},
   "source": [
    "## Exercise 1 <br>\n",
    "<p>Using the given list, print out a filtered version of the list with only the numbers that are less than ten</b></i></p><br>\n"
   ]
  },
  {
   "cell_type": "code",
   "execution_count": 217,
   "metadata": {
    "scrolled": true
   },
   "outputs": [
    {
     "name": "stdout",
     "output_type": "stream",
     "text": [
      "[1, 5, 8, 9]\n"
     ]
    }
   ],
   "source": [
    "alist = [1,11,14,5,8,9]\n",
    "# alist = [1,11,14,5,8,9,21,42,6344,2313,2,5,2,6,8]\n",
    "\n",
    "newlis = []\n",
    "\n",
    "for i in alist:\n",
    "    if i < 10:\n",
    "        newlis += [i]\n",
    "    else:\n",
    "        continue\n",
    "\n",
    "print(newlis)\n"
   ]
  },
  {
   "cell_type": "markdown",
   "metadata": {},
   "source": [
    "## Exercise 2 <br>\n",
    "<p>Merge and sort the two lists below<br>\n",
    "<b><i>Hint: You can use the .sort() method</i></b></p>"
   ]
  },
  {
   "cell_type": "code",
   "execution_count": 409,
   "metadata": {},
   "outputs": [
    {
     "name": "stdout",
     "output_type": "stream",
     "text": [
      "[1, 2, 3, 3, 4, 4, 5, 5, 6, 6, 7, 8, 10]\n",
      "[1, 2, 3, 4, 5, 6, 7, 8, 10]\n"
     ]
    }
   ],
   "source": [
    "l_1 = [1,2,3,4,5,6]\n",
    "l_2 = [3,4,5,6,7,8,10]\n",
    "\n",
    "# l_3 = []\n",
    "l_3 = sorted(l_1 + l_2)\n",
    "print(l_3)\n",
    "\n",
    "\n",
    "## remove duplicate numbers\n",
    "no_repeat = []\n",
    "\n",
    "for i in l_3:\n",
    "    \n",
    "    if i not in no_repeat:\n",
    "        no_repeat.append(i)\n",
    "        \n",
    "print(no_repeat)"
   ]
  },
  {
   "cell_type": "markdown",
   "metadata": {},
   "source": [
    "## Exercise 3 <br>\n",
    "<p>Square every number from 1 to 15<br>\n"
   ]
  },
  {
   "cell_type": "code",
   "execution_count": 213,
   "metadata": {},
   "outputs": [
    {
     "name": "stdout",
     "output_type": "stream",
     "text": [
      "1 squared is 1\n",
      "2 squared is 4\n",
      "3 squared is 9\n",
      "4 squared is 16\n",
      "5 squared is 25\n",
      "6 squared is 36\n",
      "7 squared is 49\n",
      "8 squared is 64\n",
      "9 squared is 81\n",
      "10 squared is 100\n",
      "11 squared is 121\n",
      "12 squared is 144\n",
      "13 squared is 169\n",
      "14 squared is 196\n",
      "15 squared is 225\n",
      "\n",
      "\n",
      "1 squared is 1\n",
      "2 squared is 4\n",
      "3 squared is 9\n",
      "4 squared is 16\n",
      "5 squared is 25\n",
      "6 squared is 36\n",
      "7 squared is 49\n",
      "8 squared is 64\n",
      "9 squared is 81\n",
      "10 squared is 100\n",
      "11 squared is 121\n",
      "12 squared is 144\n",
      "13 squared is 169\n",
      "14 squared is 196\n",
      "15 squared is 225\n"
     ]
    }
   ],
   "source": [
    "# Way 1\n",
    "j = 1\n",
    "\n",
    "while j < 16:\n",
    "    for i in range(16):\n",
    "        \n",
    "        if i == 0:\n",
    "            continue\n",
    "        else:\n",
    "            j = i **2\n",
    "        \n",
    "        print(i, \"squared is\", j)\n",
    "    j += 1\n",
    "\n",
    "print(\"\\n\")\n",
    "\n",
    "# Way 2\n",
    "j = 1\n",
    "\n",
    "while j < 16:\n",
    "    for i in range(1, 16):\n",
    "        j = i **2\n",
    "        \n",
    "        print(i, \"squared is\", j)\n",
    "    j += 1"
   ]
  },
  {
   "cell_type": "markdown",
   "metadata": {},
   "source": [
    "## Exercise 4<br>\n",
    "<p>Using List Comprehension and the given list, print out a filtered list with \n",
    "only the names that start with the letter 'a'. \n",
    "The names in the outputted list should be title cased and have no whitespace.<br>\n",
    "<p>Hint: There is an empty string at the end of the list you will need to account for.\n"
   ]
  },
  {
   "cell_type": "code",
   "execution_count": 410,
   "metadata": {},
   "outputs": [
    {
     "name": "stdout",
     "output_type": "stream",
     "text": [
      "['Amy', 'Alex']\n",
      "['Amy', 'Alex']\n"
     ]
    }
   ],
   "source": [
    "names_list = ['   amy', 'Briant', 'Ryan ', ' Alex', 'steve', '  ']\n",
    "#expected output = ['Amy', 'Alex']\n",
    "\n",
    "\n",
    "## Way 1\n",
    "\n",
    "clean_names = []\n",
    "\n",
    "for name in names_list:\n",
    "    clean_names.append(name.strip().title())\n",
    "# print(clean_names)\n",
    "\n",
    "a_names = []\n",
    "    \n",
    "for name in clean_names:\n",
    "    if len(name) > 1 and name[0].lower() == 'a': \n",
    "#         print(name[0])\n",
    "        a_names.append(name)\n",
    "        \n",
    "print(a_names)\n",
    "\n",
    "\n",
    "## Way 2\n",
    "\n",
    "clean_names = []\n",
    "\n",
    "for name in names_list:\n",
    "    clean_names = name.strip().title()\n",
    "\n",
    "    \n",
    "    if len(name) > 1 and name[0].lower() == 'a': \n",
    "        a_names.append(name)\n",
    "        \n",
    "print(a_names)"
   ]
  },
  {
   "cell_type": "markdown",
   "metadata": {},
   "source": [
    "## Exercise 5 <br>\n",
    "<p>Print all Prime numbers from 1 to 100<br>\n",
    "<p>Hint: A Prime # is any # that is ONLY divisible by 1 and itself. So think how you can iterate through the list of #s from 1 to 100 and check to see if its divisible by ANY # below it.\n",
    "<p>The For/Each might be very helpful for this question. \n",
    "https://www.geeksforgeeks.org/using-else-conditional-statement-with-for-loop-in-python/\n"
   ]
  },
  {
   "cell_type": "code",
   "execution_count": 384,
   "metadata": {},
   "outputs": [
    {
     "name": "stdout",
     "output_type": "stream",
     "text": [
      "2 is a prime number\n",
      "3 is a prime number\n",
      "5 is a prime number\n",
      "7 is a prime number\n",
      "11 is a prime number\n",
      "13 is a prime number\n",
      "17 is a prime number\n",
      "19 is a prime number\n",
      "23 is a prime number\n",
      "29 is a prime number\n",
      "31 is a prime number\n",
      "37 is a prime number\n",
      "41 is a prime number\n",
      "43 is a prime number\n",
      "47 is a prime number\n",
      "53 is a prime number\n",
      "59 is a prime number\n",
      "61 is a prime number\n",
      "67 is a prime number\n",
      "71 is a prime number\n",
      "73 is a prime number\n",
      "79 is a prime number\n",
      "83 is a prime number\n",
      "89 is a prime number\n",
      "97 is a prime number\n",
      "All the prime numbers between 1-100 are:  [2, 3, 5, 7, 11, 13, 17, 19, 23, 29, 31, 37, 41, 43, 47, 53, 59, 61, 67, 71, 73, 79, 83, 89, 97]\n"
     ]
    }
   ],
   "source": [
    "prime = []\n",
    "\n",
    "for num in range(1,100):\n",
    "    if num > 1:\n",
    "\n",
    "        for i in range(2, int(num/2)+1):\n",
    "\n",
    "            if (num % i) == 0:\n",
    "                break\n",
    "        else:\n",
    "            print(num, \"is a prime number\")\n",
    "            prime.append(num)\n",
    "        \n",
    "print(\"All the prime numbers between 1-100 are: \", prime)"
   ]
  },
  {
   "cell_type": "code",
   "execution_count": null,
   "metadata": {},
   "outputs": [],
   "source": []
  }
 ],
 "metadata": {
  "kernelspec": {
   "display_name": "Python 3 (ipykernel)",
   "language": "python",
   "name": "python3"
  },
  "language_info": {
   "codemirror_mode": {
    "name": "ipython",
    "version": 3
   },
   "file_extension": ".py",
   "mimetype": "text/x-python",
   "name": "python",
   "nbconvert_exporter": "python",
   "pygments_lexer": "ipython3",
   "version": "3.11.5"
  }
 },
 "nbformat": 4,
 "nbformat_minor": 2
}
